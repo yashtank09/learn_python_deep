{
 "cells": [
  {
   "cell_type": "code",
   "execution_count": 12,
   "id": "d5452f9d",
   "metadata": {},
   "outputs": [
    {
     "name": "stdout",
     "output_type": "stream",
     "text": [
      "24-26-28-30-30\n"
     ]
    }
   ],
   "source": [
    "for i in range(24, 31, 2):\n",
    "    print(i,end=\"-\")"
   ]
  },
  {
   "cell_type": "code",
   "execution_count": 3,
   "id": "3b80ab9b",
   "metadata": {},
   "outputs": [],
   "source": [
    "b = 30\n",
    "# in this example given arguments in function first argument has no value but second argument's variable stores it self\n",
    "def fun(a, b=b):\n",
    "    return a+b"
   ]
  },
  {
   "cell_type": "code",
   "execution_count": 4,
   "id": "55f45259",
   "metadata": {},
   "outputs": [
    {
     "name": "stdout",
     "output_type": "stream",
     "text": [
      "31\n"
     ]
    }
   ],
   "source": [
    "print(fun(1))"
   ]
  },
  {
   "cell_type": "code",
   "execution_count": 13,
   "id": "2b9c928e",
   "metadata": {},
   "outputs": [],
   "source": [
    "def funct():\n",
    "    abc = \"Hello\"\n",
    "    return abc\n",
    "def funct2():\n",
    "    return funct().abc"
   ]
  },
  {
   "cell_type": "code",
   "execution_count": 15,
   "id": "ac4e5871",
   "metadata": {},
   "outputs": [
    {
     "ename": "AttributeError",
     "evalue": "'function' object has no attribute 'abc'",
     "output_type": "error",
     "traceback": [
      "\u001b[1;31m---------------------------------------------------------------------------\u001b[0m",
      "\u001b[1;31mAttributeError\u001b[0m                            Traceback (most recent call last)",
      "\u001b[1;32m~\\AppData\\Local\\Temp/ipykernel_5396/2724179540.py\u001b[0m in \u001b[0;36m<module>\u001b[1;34m\u001b[0m\n\u001b[1;32m----> 1\u001b[1;33m \u001b[0mprint\u001b[0m\u001b[1;33m(\u001b[0m\u001b[0mfunct2\u001b[0m\u001b[1;33m.\u001b[0m\u001b[0mabc\u001b[0m\u001b[1;33m)\u001b[0m\u001b[1;33m\u001b[0m\u001b[1;33m\u001b[0m\u001b[0m\n\u001b[0m",
      "\u001b[1;31mAttributeError\u001b[0m: 'function' object has no attribute 'abc'"
     ]
    }
   ],
   "source": [
    "print(funct2.)"
   ]
  },
  {
   "cell_type": "code",
   "execution_count": 12,
   "id": "736c2cb2",
   "metadata": {},
   "outputs": [
    {
     "name": "stdout",
     "output_type": "stream",
     "text": [
      "Hello\n"
     ]
    }
   ],
   "source": [
    "print(funct())"
   ]
  },
  {
   "cell_type": "code",
   "execution_count": 1,
   "id": "46fb47da",
   "metadata": {},
   "outputs": [
    {
     "name": "stdout",
     "output_type": "stream",
     "text": [
      "..######..\n",
      "..#....#..\n",
      "..######..\n",
      "..#....#..\n",
      "..#....#..\n",
      "\n",
      "\n"
     ]
    }
   ],
   "source": [
    "print(\"..######..\\n..#....#..\\n..######..\\n..#....#..\\n..#....#..\\n\\n\")"
   ]
  },
  {
   "cell_type": "code",
   "execution_count": null,
   "id": "a48a14a6",
   "metadata": {},
   "outputs": [],
   "source": []
  }
 ],
 "metadata": {
  "kernelspec": {
   "display_name": "Python 3 (ipykernel)",
   "language": "python",
   "name": "python3"
  },
  "language_info": {
   "codemirror_mode": {
    "name": "ipython",
    "version": 3
   },
   "file_extension": ".py",
   "mimetype": "text/x-python",
   "name": "python",
   "nbconvert_exporter": "python",
   "pygments_lexer": "ipython3",
   "version": "3.9.7"
  }
 },
 "nbformat": 4,
 "nbformat_minor": 5
}
