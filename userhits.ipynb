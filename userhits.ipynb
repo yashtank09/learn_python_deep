{
 "cells": [
  {
   "cell_type": "code",
   "execution_count": 17,
   "id": "f2af3a43",
   "metadata": {},
   "outputs": [
    {
     "name": "stdout",
     "output_type": "stream",
     "text": [
      "<class 'datetime.time'>\n",
      "2022-03-02 12:45:34.016895\n",
      "2022-03-02 12:45:35.021868\n",
      "2022-03-02 12:45:36.025636\n",
      "2022-03-02 12:45:37.040556\n",
      "2022-03-02 12:45:38.040703\n",
      "2022-03-02 12:45:39.052460\n",
      "2022-03-02 12:45:40.053118\n",
      "2022-03-02 12:45:41.056600\n",
      "2022-03-02 12:45:42.066637\n",
      "2022-03-02 12:45:43.070346\n"
     ]
    }
   ],
   "source": [
    "import datetime\n",
    "import time\n",
    "current = datetime.time\n",
    "print(current)\n",
    "\n",
    "for a in range(10):\n",
    "    currentTime = datetime.datetime.now()\n",
    "    print(currentTime)\n",
    "    time.sleep(1)"
   ]
  },
  {
   "cell_type": "code",
   "execution_count": 1,
   "id": "ee5736a9",
   "metadata": {},
   "outputs": [
    {
     "name": "stdout",
     "output_type": "stream",
     "text": [
      "192.168.1.34\n"
     ]
    }
   ],
   "source": [
    "import socket\n",
    "hostname = socket.gethostname()\n",
    "local_ip = socket.gethostbyname(hostname)\n",
    "\n",
    "print(local_ip)"
   ]
  },
  {
   "cell_type": "code",
   "execution_count": 30,
   "id": "0acbae05",
   "metadata": {},
   "outputs": [],
   "source": [
    "import random\n",
    "myList = []\n",
    "RandomNumber = random.randint(100, 999)\n",
    "myList = myList.append(RandomNumber)"
   ]
  },
  {
   "cell_type": "code",
   "execution_count": 31,
   "id": "79dcfb06",
   "metadata": {},
   "outputs": [
    {
     "name": "stdout",
     "output_type": "stream",
     "text": [
      "None\n"
     ]
    }
   ],
   "source": [
    "print(myList)"
   ]
  },
  {
   "cell_type": "code",
   "execution_count": 32,
   "id": "902d499b",
   "metadata": {},
   "outputs": [],
   "source": [
    "import datetime"
   ]
  },
  {
   "cell_type": "code",
   "execution_count": 45,
   "id": "236bcb08",
   "metadata": {},
   "outputs": [
    {
     "name": "stdout",
     "output_type": "stream",
     "text": [
      "14:29:46.052336\n"
     ]
    }
   ],
   "source": [
    "date = datetime.datetime.now().time()\n",
    "print(date)"
   ]
  },
  {
   "cell_type": "code",
   "execution_count": null,
   "id": "9b32d072",
   "metadata": {},
   "outputs": [],
   "source": []
  }
 ],
 "metadata": {
  "kernelspec": {
   "display_name": "Python 3 (ipykernel)",
   "language": "python",
   "name": "python3"
  },
  "language_info": {
   "codemirror_mode": {
    "name": "ipython",
    "version": 3
   },
   "file_extension": ".py",
   "mimetype": "text/x-python",
   "name": "python",
   "nbconvert_exporter": "python",
   "pygments_lexer": "ipython3",
   "version": "3.9.7"
  }
 },
 "nbformat": 4,
 "nbformat_minor": 5
}
