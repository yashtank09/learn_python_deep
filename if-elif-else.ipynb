{
 "cells": [
  {
   "cell_type": "markdown",
   "metadata": {},
   "source": [
    "# if - elif - else\n",
    "### An else statement can be combined with an if statement. An else statement contains the block of code that executes if the conditional expression in the if statement resolves to 0 or a FALSE value."
   ]
  },
  {
   "cell_type": "code",
   "execution_count": 1,
   "metadata": {},
   "outputs": [
    {
     "name": "stdout",
     "output_type": "stream",
     "text": [
      "This is true\n"
     ]
    }
   ],
   "source": [
    "if True:\n",
    "    print('This is true')"
   ]
  },
  {
   "cell_type": "code",
   "execution_count": 3,
   "metadata": {},
   "outputs": [],
   "source": [
    "# Here the value of if is False so nothing will print. if we write else then it execute else part\n",
    "if False:\n",
    "    print('This is true')"
   ]
  },
  {
   "cell_type": "code",
   "execution_count": 2,
   "metadata": {},
   "outputs": [
    {
     "name": "stdout",
     "output_type": "stream",
     "text": [
      "a is False\n"
     ]
    }
   ],
   "source": [
    "# Here variable a = false so it direct execute else statement.\n",
    "a = False\n",
    "\n",
    "if a:\n",
    "    print('This is True')\n",
    "else:\n",
    "    print('a is False')"
   ]
  },
  {
   "cell_type": "code",
   "execution_count": 7,
   "metadata": {},
   "outputs": [
    {
     "name": "stdout",
     "output_type": "stream",
     "text": [
      "Hi, Dhoni\n"
     ]
    }
   ],
   "source": [
    "# We compare variable name with names\n",
    "b = 'Dhoni'\n",
    "\n",
    "if b == 'Brawo':\n",
    "    print('Hi, Bravo')\n",
    "elif b == 'Yash':\n",
    "    print('Hi, Yash')\n",
    "elif b == 'Dhoni':\n",
    "    print('Hi, Dhoni')\n",
    "else:\n",
    "    print('What are you saing')"
   ]
  },
  {
   "cell_type": "code",
   "execution_count": 12,
   "metadata": {},
   "outputs": [
    {
     "name": "stdout",
     "output_type": "stream",
     "text": [
      "1 - Got a true expression value\n",
      "15\n",
      "2 - Got a false expression value\n",
      "0\n",
      "Good bye!\n"
     ]
    }
   ],
   "source": [
    "# '0' is a false value, so expected 0 all values are True and execute the if block statement.\n",
    "var1 = 15\n",
    "if(var1):\n",
    "    print(\"1 - Got a true expression value\")\n",
    "    print(var1)\n",
    "else:\n",
    "    print(\"1 - Got a false expression value\")\n",
    "    print(var1)\n",
    "\n",
    "var2 = 0\n",
    "if(var2):\n",
    "    print(\"2 - Got a true expression value\")\n",
    "    print(var2)\n",
    "else:\n",
    "    print(\"2 - Got a false expression value\")\n",
    "    print(var2)\n",
    "\n",
    "print(\"Good bye!\")"
   ]
  },
  {
   "cell_type": "code",
   "execution_count": 21,
   "metadata": {},
   "outputs": [
    {
     "name": "stdout",
     "output_type": "stream",
     "text": [
      "Check the number is even or odd...\n",
      "\n",
      "Enter number to check: 5\n",
      "5 is odd number\n"
     ]
    }
   ],
   "source": [
    "print(\"Check the number is even or odd...\\n\")\n",
    "value = int(input(\"Enter number to check: \"))\n",
    "if (value%2)==0:\n",
    "    print(\"{0} is even number\".format(value))\n",
    "else:\n",
    "    print(\"{0} is odd number\".format(value))"
   ]
  },
  {
   "cell_type": "code",
   "execution_count": 22,
   "metadata": {},
   "outputs": [
    {
     "name": "stdout",
     "output_type": "stream",
     "text": [
      "Enter your age? 25\n",
      "You are eligible to vote !!\n"
     ]
    }
   ],
   "source": [
    "# Program to check whether a person is eligible to vote or not.\n",
    "age = int (input(\"Enter your age? \"))\n",
    "if age>=18:\n",
    "    print(\"You are eligible to vote !!\")\n",
    "else:\n",
    "    print(\"Sorry! you have to wait !!\")"
   ]
  },
  {
   "cell_type": "code",
   "execution_count": 23,
   "metadata": {},
   "outputs": [
    {
     "name": "stdout",
     "output_type": "stream",
     "text": [
      "Enter the marks? 65\n",
      "You scored grade B+...\n"
     ]
    }
   ],
   "source": [
    "# We use elif to,\n",
    "# Program to calculate marks and print grad vise value\n",
    "marks = int(input(\"Enter the marks? \"))\n",
    "if marks > 85 and marks <= 100:\n",
    "    print(\"Congrats! you scored grade A...\")\n",
    "elif marks > 60 and marks <= 85:\n",
    "    print(\"You scored grade B+...\")\n",
    "elif marks > 40 and marks <= 60:\n",
    "    print(\"You scored grade B...\")\n",
    "elif marks > 30 and marks <= 40:\n",
    "    print(\"You scored grade C...\")\n",
    "else:\n",
    "    print(\"Sorry to say, You are Fail!...\")"
   ]
  }
 ],
 "metadata": {
  "kernelspec": {
   "display_name": "Python 3",
   "language": "python",
   "name": "python3"
  },
  "language_info": {
   "codemirror_mode": {
    "name": "ipython",
    "version": 3
   },
   "file_extension": ".py",
   "mimetype": "text/x-python",
   "name": "python",
   "nbconvert_exporter": "python",
   "pygments_lexer": "ipython3",
   "version": "3.8.8"
  }
 },
 "nbformat": 4,
 "nbformat_minor": 4
}
