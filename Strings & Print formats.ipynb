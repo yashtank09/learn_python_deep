{
 "cells": [
  {
   "cell_type": "code",
   "execution_count": 3,
   "metadata": {},
   "outputs": [
    {
     "name": "stdout",
     "output_type": "stream",
     "text": [
      "Hello Yash!\n"
     ]
    }
   ],
   "source": [
    "# This is string\n",
    "print('Hello Yash!')"
   ]
  },
  {
   "cell_type": "code",
   "execution_count": 4,
   "metadata": {},
   "outputs": [
    {
     "name": "stdout",
     "output_type": "stream",
     "text": [
      "my name is Yash.\n"
     ]
    }
   ],
   "source": [
    "# Declare String in variable\n",
    "y = 'my name is Yash.'\n",
    "# Print declared string\n",
    "print(y)"
   ]
  },
  {
   "cell_type": "code",
   "execution_count": 5,
   "metadata": {},
   "outputs": [
    {
     "name": "stdout",
     "output_type": "stream",
     "text": [
      "y\n",
      "a\n"
     ]
    }
   ],
   "source": [
    "# Strings in Python are identified as a similar set of characters represented in the quotation marks.\n",
    "# print a single charecter of string useing index numbers of string\n",
    "print(y[1])\n",
    "print(y[4])"
   ]
  },
  {
   "cell_type": "code",
   "execution_count": 6,
   "metadata": {},
   "outputs": [
    {
     "data": {
      "text/plain": [
       "16"
      ]
     },
     "execution_count": 6,
     "metadata": {},
     "output_type": "execute_result"
    }
   ],
   "source": [
    "# len() function print Lenght of string\n",
    "len(y)"
   ]
  },
  {
   "cell_type": "code",
   "execution_count": 21,
   "metadata": {},
   "outputs": [
    {
     "name": "stdout",
     "output_type": "stream",
     "text": [
      "my name is Yash.\n",
      " name is Yash.\n",
      "my name i\n",
      "name is \n",
      "\n",
      "\n",
      "Yash.\n"
     ]
    }
   ],
   "source": [
    "# String also contain spces as index number in python\n",
    "# Print a string indexes [From:TO]\n",
    "print(y[:]) # Eveerything\n",
    "print(y[2:]) # starting index to end\n",
    "print(y[:9]) # beginning to ending index\n",
    "print(y[3:11]) # print between this indexes\n",
    "print(\"\\n\")\n",
    "\n",
    "# if we give a -1 in index that start read index from ending point\n",
    "# in short - operator reads string from reverse\n",
    "print(y[-5:]) # it print 5 charachters from ending point"
   ]
  },
  {
   "cell_type": "code",
   "execution_count": 23,
   "metadata": {},
   "outputs": [
    {
     "name": "stdout",
     "output_type": "stream",
     "text": [
      "my name is Yash.\n",
      "m aei ah\n",
      "mnesa.\n",
      ".sYs mny\n",
      ".hsaY si eman ym\n"
     ]
    }
   ],
   "source": [
    "# Print by ++ indexes || it prints after value by using increament\n",
    "print(y)\n",
    "print(y[::2]) # leave the second index and print next\n",
    "print(y[::3]) # leave the third index and print next\n",
    "print(y[::-2]) # it starts from reverse and leave the second index and print next\n",
    "print(y[::-1]) # it prints string in reverse"
   ]
  },
  {
   "cell_type": "code",
   "execution_count": 24,
   "metadata": {},
   "outputs": [
    {
     "name": "stdout",
     "output_type": "stream",
     "text": [
      "my name is Yash.Hello Yash\n"
     ]
    }
   ],
   "source": [
    "# concadinate two strings with '+' operator Here we can't concadinate int variable\n",
    "print(y+\"Hello Yash\")"
   ]
  },
  {
   "cell_type": "code",
   "execution_count": 7,
   "metadata": {},
   "outputs": [
    {
     "name": "stdout",
     "output_type": "stream",
     "text": [
      "my name is Yash.my name is Yash.\n"
     ]
    }
   ],
   "source": [
    "# '*' operator repeat the string and print\n",
    "print(y * 2)"
   ]
  },
  {
   "cell_type": "code",
   "execution_count": 8,
   "metadata": {
    "scrolled": false
   },
   "outputs": [
    {
     "name": "stdout",
     "output_type": "stream",
     "text": [
      "MY NAME IS YASH.\n",
      "my name is yash.\n",
      "My name is yash.\n",
      "['my name ', 's Yash.']\n"
     ]
    }
   ],
   "source": [
    "# Functions\n",
    "print(y.upper()) #Upper Case Characters\n",
    "print(y.lower()) #lower Case Characters\n",
    "print(y.capitalize()) # Capitalize first character of string\n",
    "print(y.split('i')) # Splits string from given input in .split('_input_') function"
   ]
  },
  {
   "cell_type": "code",
   "execution_count": 25,
   "metadata": {},
   "outputs": [
    {
     "name": "stdout",
     "output_type": "stream",
     "text": [
      "This is vaiable as string : 112\n",
      "This is float variable as String: 111.334\n",
      "This is float vatiable as string:  12.121200\n"
     ]
    }
   ],
   "source": [
    "# Print a variable integer to string\n",
    "x = 112\n",
    "# if we want to print a numeric value into string then it will help us.\n",
    "print ('This is vaiable as string : %s' %(x))\n",
    "\n",
    "# Print a float variable as string\n",
    "print('This is float variable as String: %.3f'%(111.33434))\n",
    "\n",
    "#if we print like ('Thsi is variable as String: %10.6f'%(12.1212) - it prints like \"This ... String:  12.121200\"\n",
    "# %val.valf before '.' length of value and after '.' lenght of value\n",
    "print('This is float vatiable as string: %10.6f'%(12.1212)) # %10.6f it prints the 6 floating point number "
   ]
  },
  {
   "cell_type": "code",
   "execution_count": 24,
   "metadata": {},
   "outputs": [
    {
     "name": "stdout",
     "output_type": "stream",
     "text": [
      "This is conversion of datatype: 124\n"
     ]
    }
   ],
   "source": [
    "# we can also use %r for converting from integer to string in python\n",
    "# This is use repr() function & %s uses str() function\n",
    "print('This is conversion of datatype: %r' %(124))"
   ]
  },
  {
   "cell_type": "code",
   "execution_count": 30,
   "metadata": {},
   "outputs": [
    {
     "name": "stdout",
     "output_type": "stream",
     "text": [
      "First input: Hello!, Second input: Yash, Third input: How Are you\n",
      "First input: 55, Second input: Yash, Third input: 333\n"
     ]
    }
   ],
   "source": [
    "# print multiple variable in one string\n",
    "print('First input: %s, Second input: %s, Third input: %s' %('Hello!', 'Yash', 'How Are you'))\n",
    "print('First input: %s, Second input: %s, Third input: %s' %(55, 'Yash', 333))"
   ]
  },
  {
   "cell_type": "code",
   "execution_count": 3,
   "metadata": {},
   "outputs": [
    {
     "name": "stdout",
     "output_type": "stream",
     "text": [
      "Input is: Yash\n"
     ]
    }
   ],
   "source": [
    "x = 'Yash'\n",
    "y = 'Tank'\n",
    "# Print one variable using .format() method\n",
    "print('Input is: {0}'.format(x))"
   ]
  },
  {
   "cell_type": "code",
   "execution_count": 2,
   "metadata": {},
   "outputs": [
    {
     "name": "stdout",
     "output_type": "stream",
     "text": [
      "First input: yash, Second input: tank\n"
     ]
    }
   ],
   "source": [
    "# Print variable using .format() method and declate variable as argument of .format() function\n",
    "print('First input: {x}, Second input: {y}' .format(x='yash', y='tank'))"
   ]
  }
 ],
 "metadata": {
  "kernelspec": {
   "display_name": "Python 3",
   "language": "python",
   "name": "python3"
  },
  "language_info": {
   "codemirror_mode": {
    "name": "ipython",
    "version": 3
   },
   "file_extension": ".py",
   "mimetype": "text/x-python",
   "name": "python",
   "nbconvert_exporter": "python",
   "pygments_lexer": "ipython3",
   "version": "3.8.8"
  }
 },
 "nbformat": 4,
 "nbformat_minor": 2
}
