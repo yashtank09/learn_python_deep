{
 "cells": [
  {
   "cell_type": "code",
   "execution_count": 1,
   "id": "68d7cb78",
   "metadata": {},
   "outputs": [
    {
     "name": "stdout",
     "output_type": "stream",
     "text": [
      "8\n"
     ]
    }
   ],
   "source": [
    "import pandas as pd\n",
    "songs = pd.read_csv('songs.csv')\n",
    "\n",
    "print(max(songs['duration']))"
   ]
  },
  {
   "cell_type": "code",
   "execution_count": 2,
   "id": "de12b189",
   "metadata": {},
   "outputs": [
    {
     "name": "stdout",
     "output_type": "stream",
     "text": [
      "3\n"
     ]
    }
   ],
   "source": [
    "print(min(songs['duration']))"
   ]
  },
  {
   "cell_type": "code",
   "execution_count": 3,
   "id": "8ed0e771",
   "metadata": {},
   "outputs": [
    {
     "name": "stdout",
     "output_type": "stream",
     "text": [
      "   id             songname     singername  duration   catagory language\n",
      "1   2      Hanuman Chalisa  Gulshan Kumar         8     Bhajan    Hindi\n",
      "3   4          Lift Karade     Adnan Sami         5  Hindi POP    Hindi\n",
      "4   5  Behti Hava Sath avo           Shan         3       Mild    Hindi\n"
     ]
    }
   ],
   "source": [
    "print(songs.loc[songs['language']=='Hindi'])"
   ]
  },
  {
   "cell_type": "code",
   "execution_count": 4,
   "id": "bd619def",
   "metadata": {},
   "outputs": [
    {
     "name": "stdout",
     "output_type": "stream",
     "text": [
      "   id             songname     singername  duration   catagory  language\n",
      "4   5  Behti Hava Sath avo           Shan         3       Mild     Hindi\n",
      "1   2      Hanuman Chalisa  Gulshan Kumar         8     Bhajan     Hindi\n",
      "3   4          Lift Karade     Adnan Sami         5  Hindi POP     Hindi\n",
      "2   3        See You Again    Wiz Khalifa         4        POP   English\n",
      "0   1         Vaishnav Jan  Narsinh Mehta         4     Bhajan  Gujarati\n"
     ]
    }
   ],
   "source": [
    "print(songs.sort_values('songname'))"
   ]
  },
  {
   "cell_type": "code",
   "execution_count": 5,
   "id": "1a3af97d",
   "metadata": {},
   "outputs": [
    {
     "name": "stdout",
     "output_type": "stream",
     "text": [
      "id                        3\n",
      "songname      See You Again\n",
      "singername      Wiz Khalifa\n",
      "duration                  4\n",
      "catagory                POP\n",
      "language            English\n",
      "Name: 2, dtype: object\n"
     ]
    }
   ],
   "source": [
    "print(songs.iloc[2])"
   ]
  }
 ],
 "metadata": {
  "kernelspec": {
   "display_name": "Python 3 (ipykernel)",
   "language": "python",
   "name": "python3"
  },
  "language_info": {
   "codemirror_mode": {
    "name": "ipython",
    "version": 3
   },
   "file_extension": ".py",
   "mimetype": "text/x-python",
   "name": "python",
   "nbconvert_exporter": "python",
   "pygments_lexer": "ipython3",
   "version": "3.9.7"
  }
 },
 "nbformat": 4,
 "nbformat_minor": 5
}
