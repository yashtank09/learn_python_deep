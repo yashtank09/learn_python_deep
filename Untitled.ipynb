{
 "cells": [
  {
   "cell_type": "code",
   "execution_count": 1,
   "id": "f550e76a",
   "metadata": {},
   "outputs": [],
   "source": [
    "import csv\n",
    "\n",
    "fields = ['id', 'songname', 'singername', 'duration', 'catagory', 'language']\n",
    "rows = [[1, 'Vaishnav Jan', 'Narsinh Mehta', 4, 'Bhajan', 'Gujarati'],\n",
    "        [2, 'Hanuman Chalisa', 'Gulshan Kumar', 8, 'Bhajan', 'Hindi'],\n",
    "        [3, 'See You Again', 'Wiz Khalifa', 4, 'POP', 'English'],\n",
    "        [4, 'Lift Karade', 'Adnan Sami', 5, 'Hindi POP', 'Hindi'],\n",
    "        [5, 'Behti Hava Sath avo', 'Shan', 3, 'Mild', 'Hindi']\n",
    "       ]\n",
    "\n",
    "filename = 'yash.csv'\n",
    "\n",
    "with open(filename, 'w') as csvfile:\n",
    "    csvwriter = csv.writer(csvfile)\n",
    "    \n",
    "    csvwriter.writerow(fields)\n",
    "    csvwriter.writerows(rows)"
   ]
  },
  {
   "cell_type": "code",
   "execution_count": 18,
   "id": "da1dddd1",
   "metadata": {},
   "outputs": [
    {
     "name": "stdout",
     "output_type": "stream",
     "text": [
      "100\n"
     ]
    }
   ],
   "source": [
    "x = 10\n",
    "def fun():\n",
    "    print(x)\n",
    "x =+ 100\n",
    "fun()"
   ]
  },
  {
   "cell_type": "code",
   "execution_count": 2,
   "id": "9a081963",
   "metadata": {},
   "outputs": [
    {
     "data": {
      "text/plain": [
       "4.9"
      ]
     },
     "execution_count": 2,
     "metadata": {},
     "output_type": "execute_result"
    }
   ],
   "source": [
    "lowest_path_cost = float('inf')\n",
    "# pretend that these were calculated using some worthwhile algorithm\n",
    "path_costs = [9, 4.9, 100, 5, 50]\n",
    "for path in path_costs:\n",
    "    if path < lowest_path_cost:\n",
    "        lowest_path_cost = path\n",
    "lowest_path_cost"
   ]
  },
  {
   "cell_type": "code",
   "execution_count": 3,
   "id": "8d6c5ee8",
   "metadata": {},
   "outputs": [],
   "source": [
    "abc = float('inf')"
   ]
  },
  {
   "cell_type": "code",
   "execution_count": 2,
   "id": "583c44a5",
   "metadata": {},
   "outputs": [
    {
     "name": "stdout",
     "output_type": "stream",
     "text": [
      "[2, 3]\n"
     ]
    }
   ],
   "source": [
    "a = 'Python'\n",
    "b = [1,2,3]\n",
    "aTup = (a,b)\n",
    "print(aTup[1][1:])"
   ]
  }
 ],
 "metadata": {
  "kernelspec": {
   "display_name": "Python 3 (ipykernel)",
   "language": "python",
   "name": "python3"
  },
  "language_info": {
   "codemirror_mode": {
    "name": "ipython",
    "version": 3
   },
   "file_extension": ".py",
   "mimetype": "text/x-python",
   "name": "python",
   "nbconvert_exporter": "python",
   "pygments_lexer": "ipython3",
   "version": "3.9.7"
  }
 },
 "nbformat": 4,
 "nbformat_minor": 5
}
