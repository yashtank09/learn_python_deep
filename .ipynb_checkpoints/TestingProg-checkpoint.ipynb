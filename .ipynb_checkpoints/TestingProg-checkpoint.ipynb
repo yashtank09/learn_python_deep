{
 "cells": [
  {
   "cell_type": "code",
   "execution_count": 12,
   "id": "d5452f9d",
   "metadata": {},
   "outputs": [
    {
     "name": "stdout",
     "output_type": "stream",
     "text": [
      "24-26-28-30-30\n"
     ]
    }
   ],
   "source": [
    "for i in range(24, 31, 2):\n",
    "    print(i,end=\"-\")"
   ]
  },
  {
   "cell_type": "code",
   "execution_count": 3,
   "id": "3b80ab9b",
   "metadata": {},
   "outputs": [],
   "source": [
    "b = 30\n",
    "# in this example given arguments in function first argument has no value but second argument's variable stores it self\n",
    "def fun(a, b=b):\n",
    "    return a+b"
   ]
  },
  {
   "cell_type": "code",
   "execution_count": 4,
   "id": "6eea5f66",
   "metadata": {},
   "outputs": [
    {
     "name": "stdout",
     "output_type": "stream",
     "text": [
      "31\n"
     ]
    }
   ],
   "source": [
    "print(fun(1))"
   ]
  },
  {
   "cell_type": "code",
   "execution_count": null,
   "id": "fc0f64c9",
   "metadata": {},
   "outputs": [],
   "source": []
  }
 ],
 "metadata": {
  "kernelspec": {
   "display_name": "Python 3 (ipykernel)",
   "language": "python",
   "name": "python3"
  },
  "language_info": {
   "codemirror_mode": {
    "name": "ipython",
    "version": 3
   },
   "file_extension": ".py",
   "mimetype": "text/x-python",
   "name": "python",
   "nbconvert_exporter": "python",
   "pygments_lexer": "ipython3",
   "version": "3.9.7"
  }
 },
 "nbformat": 4,
 "nbformat_minor": 5
}
