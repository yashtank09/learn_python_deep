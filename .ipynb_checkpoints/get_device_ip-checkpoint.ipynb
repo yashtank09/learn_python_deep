{
 "cells": [
  {
   "cell_type": "code",
   "execution_count": 1,
   "id": "d14a413c",
   "metadata": {},
   "outputs": [
    {
     "name": "stdout",
     "output_type": "stream",
     "text": [
      "192.168.1.48\n"
     ]
    }
   ],
   "source": [
    "import socket\n",
    "hostname = socket.gethostname()\n",
    "# using .gethostbyname() we got the IP address of any device\n",
    "local_ip = socket.gethostbyname(hostname)\n",
    "\n",
    "print(local_ip)"
   ]
  },
  {
   "cell_type": "code",
   "execution_count": 5,
   "id": "bf82a1de",
   "metadata": {},
   "outputs": [
    {
     "name": "stdout",
     "output_type": "stream",
     "text": [
      "('LAPTOP-51E217H1', [], ['fe80::e57d:2c61:86a5:b228'])\n"
     ]
    }
   ],
   "source": [
    "# We are getting Device name and other details using .gethostbyaddr()\n",
    "print(socket.gethostbyaddr(hostname))"
   ]
  }
 ],
 "metadata": {
  "kernelspec": {
   "display_name": "Python 3 (ipykernel)",
   "language": "python",
   "name": "python3"
  },
  "language_info": {
   "codemirror_mode": {
    "name": "ipython",
    "version": 3
   },
   "file_extension": ".py",
   "mimetype": "text/x-python",
   "name": "python",
   "nbconvert_exporter": "python",
   "pygments_lexer": "ipython3",
   "version": "3.9.7"
  }
 },
 "nbformat": 4,
 "nbformat_minor": 5
}
