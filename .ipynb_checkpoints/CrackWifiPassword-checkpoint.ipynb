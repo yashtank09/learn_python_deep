{
 "cells": [
  {
   "cell_type": "code",
   "execution_count": 1,
   "id": "851d4b30",
   "metadata": {},
   "outputs": [
    {
     "name": "stdout",
     "output_type": "stream",
     "text": [
      "Varun                          | Varun@123\n",
      "SAINATH                        | PASSWORD\n",
      "Redmi Note 10 Pro              | 10101010\n",
      "RADHEKRISHNA                   | PASSWORD\n",
      "POCO X2                        | 123456788\n",
      "PANIND                         | 12AB89YZ\n",
      "MP                             | 12AB89YZ\n",
      "Heritage                       | Roni070919\n",
      "HQ-Guest                       | Gu#stn$er\n",
      "Galaxy A2070D2                 | password\n",
      "Epitome_AirtelB_2G             | 12AB89YZ\n",
      "Danger                         | passwordnathi\n",
      "DREAMERZ                       | i5@dreamerz\n",
      "Aaditya_5G                     | a&n@20596\n",
      "Epitome_AirtelB_5G             | 12AB89YZ\n"
     ]
    }
   ],
   "source": [
    "# first we will import the subprocess module\n",
    "import subprocess\n",
    "\n",
    "# now we will store the profiles data in \"data\" variable by running the 1st cmd command using subprocess.check_output\n",
    "data = subprocess.check_output(['netsh', 'wlan', 'show', 'profiles']).decode('utf-8').split('\\n')\n",
    "\n",
    "# now we will store the profile by converting them to list\n",
    "profiles = [i.split(\":\")[1][1:-1] for i in data if \"All User Profile\" in i]\n",
    "\n",
    "# using for loop in python we are checking and printing the wifi passwords if they are available using the 2nd cmd command\n",
    "for i in profiles:\n",
    "    result = subprocess.check_output(['netsh', 'wlan', 'show', 'profile', i, 'key=clear']).decode('utf-8').split('\\n')\n",
    "    result = [b.split(\":\")[1][1:-1] for b in result if \"Key Content\" in b]\n",
    "    \n",
    "    try:\n",
    "        print(\"{:<30} | {:<}\".format(i, result[0]))\n",
    "    except IndexError:\n",
    "        print(\"{:<30} | {:<}\".format(i, \"\"))"
   ]
  }
 ],
 "metadata": {
  "kernelspec": {
   "display_name": "Python 3 (ipykernel)",
   "language": "python",
   "name": "python3"
  },
  "language_info": {
   "codemirror_mode": {
    "name": "ipython",
    "version": 3
   },
   "file_extension": ".py",
   "mimetype": "text/x-python",
   "name": "python",
   "nbconvert_exporter": "python",
   "pygments_lexer": "ipython3",
   "version": "3.9.7"
  }
 },
 "nbformat": 4,
 "nbformat_minor": 5
}
