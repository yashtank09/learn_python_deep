{
 "cells": [
  {
   "cell_type": "code",
   "execution_count": 1,
   "id": "4306bf43",
   "metadata": {},
   "outputs": [
    {
     "name": "stdout",
     "output_type": "stream",
     "text": [
      "Varun                         |  Varun@123\n",
      "SAINATH                       |  PASSWORD\n",
      "Redmi Note 10 Pro             |  10101010\n",
      "RADHEKRISHNA                  |  PASSWORD\n",
      "POCO X2                       |  123456788\n",
      "PANIND                        |  12AB89YZ\n",
      "MP                            |  12AB89YZ\n",
      "Heritage                      |  Roni070919\n",
      "HQ-Guest                      |  Gu#stn$er\n",
      "Galaxy A2070D2                |  password\n",
      "Epitome_AirtelB_2G            |  12AB89YZ\n",
      "Danger                        |  passwordnathi\n",
      "DREAMERZ                      |  i5@dreamerz\n",
      "Aaditya_5G                    |  a&n@20596\n",
      "Epitome_AirtelB_5G            |  12AB89YZ\n"
     ]
    }
   ],
   "source": [
    "import subprocess\n",
    "data = subprocess.check_output(['netsh', 'wlan', 'show', 'profiles']).decode('utf-8').split('\\n')\n",
    "profiles = [i.split(\":\")[1][1:-1] for i in data if \"All User Profile\" in i]\n",
    "for i in profiles:\n",
    "    results = subprocess.check_output(['netsh', 'wlan', 'show', 'profile', i, \n",
    "                      'key=clear']).decode('utf-8').split('\\n')\n",
    "    results = [b.split(\":\")[1][1:-1] for b in results if \"Key Content\" in b]\n",
    "    try:\n",
    "        print (\"{:<30}|  {:<}\".format(i, results[0]))\n",
    "    except IndexError:\n",
    "        print (\"{:<30}|  {:<}\".format(i, \"\"))"
   ]
  }
 ],
 "metadata": {
  "kernelspec": {
   "display_name": "Python 3 (ipykernel)",
   "language": "python",
   "name": "python3"
  },
  "language_info": {
   "codemirror_mode": {
    "name": "ipython",
    "version": 3
   },
   "file_extension": ".py",
   "mimetype": "text/x-python",
   "name": "python",
   "nbconvert_exporter": "python",
   "pygments_lexer": "ipython3",
   "version": "3.9.7"
  }
 },
 "nbformat": 4,
 "nbformat_minor": 5
}
